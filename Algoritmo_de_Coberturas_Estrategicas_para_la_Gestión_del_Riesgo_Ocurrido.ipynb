{
  "nbformat": 4,
  "nbformat_minor": 0,
  "metadata": {
    "colab": {
      "name": "Algoritmo de Coberturas Estrategicas para la Gestión del Riesgo Ocurrido",
      "provenance": [],
      "collapsed_sections": [],
      "include_colab_link": true
    },
    "kernelspec": {
      "display_name": "Python 3",
      "name": "python3"
    }
  },
  "cells": [
    {
      "cell_type": "markdown",
      "metadata": {
        "id": "view-in-github",
        "colab_type": "text"
      },
      "source": [
        "<a href=\"https://colab.research.google.com/github/JoseVictorio/GRD_MAPATON/blob/main/Algoritmo_de_Coberturas_Estrategicas_para_la_Gesti%C3%B3n_del_Riesgo_Ocurrido.ipynb\" target=\"_parent\"><img src=\"https://colab.research.google.com/assets/colab-badge.svg\" alt=\"Open In Colab\"/></a>"
      ]
    },
    {
      "cell_type": "markdown",
      "metadata": {
        "id": "uceYoXAop8GE"
      },
      "source": [
        "Algoritmo de Coberturas Estrategicas para la Gestión del Riesgo Ocurrido"
      ]
    },
    {
      "cell_type": "code",
      "metadata": {
        "id": "1cLjScvarDAL"
      },
      "source": [
        "# ---------------------------------------------------------------------------------- #\n",
        "# ---- Algoritmo de Coberturas Estrategicas para la Gestión del Riesgo Ocurrido ---- #\n",
        "# --------------------------------- A.C.E.G.R.O. ----------------------------------- #\n",
        "# ------------- Aplicativo remoto para la Gestión del Riesgo Ocurrido  ------------- #\n",
        "# ----------------------------- Mapatón Perú 2021 ---------------------------------- #\n",
        "\n",
        "# ---------------------------------------------------------------------------------- #\n",
        "\n",
        "Explicación:\n",
        "- Durante la ocurrencia de un desastre, es importante que se adopten medidas de \n",
        "identificación para pronta respuesta a calamidades humanas, es por ello, que se\n",
        "pretende la adición de un algoritmo en dispositivos móviles que permitan la rápida\n",
        "clasificación de coberturas en campo, para ello, se hace uso de algoritmos de machine\n",
        "learning, para entrenar la máquina y que ella delimite la cobertura a estudiar.\n",
        "\n",
        "# ---------------------------------------------------------------------------------- #\n",
        "\n",
        "ACEGRO nace para ayudar a todas las entidades de socorro, para automatizar busquedas en\n",
        "la superficie, identificando coberturas derivadas del desastre.\n",
        "\n",
        "También puede ser usado en etapas previas a un desastre, para identificación de \n",
        "coberturas de forma más eficiente, en caso de NO contar con el equipo especializado\n",
        "(Software específico).\n",
        "\n",
        "# ---------------------------------------------------------------------------------- #"
      ],
      "execution_count": null,
      "outputs": []
    },
    {
      "cell_type": "code",
      "metadata": {
        "id": "rEXJ3gLfrDmq"
      },
      "source": [
        "# ----------------------------------------------------------------------------- #\n",
        "#                           ASISTENTE A.C.E.G.R.O.                              #\n",
        "# ----------------------------------------------------------------------------- #\n",
        "#   Desarrollado como apoyo a la Gestión del Riesgo en el transcurso de la      #\n",
        "#                             Mapatón Perú 2021                                 #\n",
        "# ----------------------------------------------------------------------------- #\n",
        "#                        Equipo: Nombre del equipo                              #\n",
        "# ----------------------------------------------------------------------------- #\n",
        "#                                                                               #\n",
        "# --------------------------- Nota aclaratoria -------------------------------- #\n",
        "#                                                                               #\n",
        "# Para la realización del código expuesto posteriormente se hizo uso de números #\n",
        "#   y correos ficticios, conservando la funcionalidad, pero sin exponer ningún  #\n",
        "#                         dato de confidencialidad.                             #         \n",
        "# ----------------------------------------------------------------------------- #\n",
        "\n",
        "\n",
        "\n",
        "# --------------------------- Variables previas ------------------------------- #\n",
        "\n",
        "from cv2 import cv2\n",
        "import numpy as np\n",
        "import matplotlib.pyplot as plt\n",
        "\n",
        "# ------------------- Generación de funcionalidades -------------------------- #\n",
        "\n",
        "imagen = cv2.imread('Imagen/Imagen_Ejemplo.jpg') # Elección de la iamgen .jpg, .tif, .png\n",
        "\n",
        "# ------------ Definición del intervalo de la cobertura ---------------------- #\n",
        "\n",
        "min = int(input(\"Digite el valor mínimo de identificación: \"))\n",
        "\n",
        "max = int(input(\"Digite el valor máximo de identificación: \"))\n",
        "\n",
        "# ----------------------------------------------------------------------------- #\n",
        "\n",
        "grises = cv2.cvtColor(imagen, cv2.COLOR_BGR2GRAY)\n",
        "\n",
        "gauss = cv2.GaussianBlur(grises, (5,5), 0) # La matriz 3x3 es el valor kernel = 3\n",
        "\n",
        "canny = cv2.Canny(gauss, min, max) # Aparece otra vez el intervalo 0, (2^^n) -1\n",
        "\n",
        "kernel = np.ones((5,5), np.uint8) # Valor kernel 3x3\n",
        "\n",
        "cierre = cv2.morphologyEx(canny, cv2.MORPH_CLOSE, kernel)\n",
        "\n",
        "contorno, jerarquia = cv2.findContours(cierre.copy(), cv2.RETR_EXTERNAL, cv2.CHAIN_APPROX_SIMPLE)\n",
        "\n",
        "print(\"El número coberturas es: {}\".format(len(contorno)))\n",
        "\n",
        "cv2.drawContours(imagen, contorno, -1, (251, 60, 50), 2)\n",
        "\n",
        "# ----------------------------------------------------------------------------- #\n",
        "# -------------------- Ejecución y prueba del algoritmo ----------------------- #\n",
        "\n",
        "new_imagen = cv2.resize(imagen, (0,0), fx=0.5, fy=0.5)\n",
        "new_grises = cv2.resize(grises, (0,0), fx=0.5, fy=0.5)\n",
        "new_gauss = cv2.resize(gauss, (0,0), fx=0.5, fy=0.5)\n",
        "new_canny = cv2.resize(canny, (0,0), fx=0.5, fy=0.5)\n",
        "\n",
        "cv2.imshow('Imagen original', new_imagen)\n",
        "# cv2.imshow('Imagen en grises', new_grises)\n",
        "# cv2.imshow('Imagen Gauss', new_gauss)\n",
        "# cv2.imshow('Imagen Canny', new_canny)\n",
        "\n",
        "cv2.waitKey(0)\n",
        "\n",
        "# ----------------------------- Fin del código -------------------------------- #\n",
        "# ----------------------------------------------------------------------------- #"
      ],
      "execution_count": null,
      "outputs": []
    }
  ]
}