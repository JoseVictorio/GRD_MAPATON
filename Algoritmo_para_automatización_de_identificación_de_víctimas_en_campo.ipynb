{
  "nbformat": 4,
  "nbformat_minor": 0,
  "metadata": {
    "colab": {
      "name": "Algoritmo para automatización de identificación de víctimas en campo",
      "provenance": [],
      "collapsed_sections": [],
      "include_colab_link": true
    },
    "kernelspec": {
      "display_name": "Python 3",
      "name": "python3"
    }
  },
  "cells": [
    {
      "cell_type": "markdown",
      "metadata": {
        "id": "view-in-github",
        "colab_type": "text"
      },
      "source": [
        "<a href=\"https://colab.research.google.com/github/JoseVictorio/GRD_MAPATON/blob/main/Algoritmo_para_automatizaci%C3%B3n_de_identificaci%C3%B3n_de_v%C3%ADctimas_en_campo.ipynb\" target=\"_parent\"><img src=\"https://colab.research.google.com/assets/colab-badge.svg\" alt=\"Open In Colab\"/></a>"
      ]
    },
    {
      "cell_type": "markdown",
      "metadata": {
        "id": "M665gc4vmf1q"
      },
      "source": [
        "Algoritmo - Identificación en campo - Reconocimiento facial"
      ]
    },
    {
      "cell_type": "code",
      "metadata": {
        "id": "MAdMdZKWmu1k"
      },
      "source": [
        "# ---------------------------------------------------------------------------------- #\n",
        "# ---- Algoritmo para automatización de identificación de víctimas en campo -------- #\n",
        "# --------------------------------- A.R.G.R.O -------------------------------------- #\n",
        "# ------------- Aplicativo remoto para la Gestión del Riesgo Ocurrido  ------------- #\n",
        "# ----------------------------- Mapatón Perú 2021 ---------------------------------- #\n",
        "\n",
        "# ---------------------------------------------------------------------------------- #\n",
        "\n",
        "Explicación:\n",
        "- Durante la ocurrencia de un desastre, es importante que se adopten medidas de \n",
        "identificación para pronta respuesta a calamidades humanas, es por ello, que se\n",
        "pretende la adición de un algoritmo en un UAV (Vehículo Aéreo no tripulado) con\n",
        "diversas bandas para el reconocimiento de víctimas a través del reconocimiento\n",
        "facial o corporal.\n",
        "\n",
        "Dicho algoritmo es entrenado por medio de redes neuronales, y aprendizaje autónomo\n",
        "(Machine learning).\n",
        "\n",
        "# ---------------------------------------------------------------------------------- #\n",
        "\n",
        "ARGRO nace para ayudar a todas las entidades de socorro, para automatizar busquedas en\n",
        "la superficie, identificando víctimas y realizando su conteo correspondiente.\n",
        "\n",
        "# ---------------------------------------------------------------------------------- #"
      ],
      "execution_count": null,
      "outputs": []
    },
    {
      "cell_type": "code",
      "metadata": {
        "id": "a-wpeSJKmxkK"
      },
      "source": [
        "# ----------------------------------------------------------------------------- #\n",
        "#                            ASISTENTE A.R.G.R.O.                               #\n",
        "# ----------------------------------------------------------------------------- #\n",
        "#   Desarrollado como apoyo a la Gestión del Riesgo en el transcurso de la      #\n",
        "#                             Mapatón Perú 2021                                 #\n",
        "# ----------------------------------------------------------------------------- #\n",
        "#                        Equipo: Nombre del equipo                              #\n",
        "# ----------------------------------------------------------------------------- #\n",
        "#                                                                               #\n",
        "# --------------------------- Nota aclaratoria -------------------------------- #\n",
        "#                                                                               #\n",
        "#     Para la realización del código expuesto posteriormente se hizo uso de     #\n",
        "#     imágenes ficticias o de elaboración propia, con el fin, de proteger       #\n",
        "#   la identidad de todas aquellas víctimas reales de eventos desafortunados    #\n",
        "#                                                                               #\n",
        "# ----------------------------------------------------------------------------- #\n",
        "\n",
        "\n",
        "\n",
        "# --------------------------- Variables previas ------------------------------- #\n",
        "\n",
        "import cv2 as cv\n",
        "import numpy as np\n",
        "\n",
        "ruidos = cv.CascadeClassifier('C:\\\\Noveno Semestre\\\\haarcascade_frontalcatface.xml') # Cambiar a ruta local del servidor\n",
        "\n",
        "# ------------------- Generación de funcionalidades -------------------------- #\n",
        "\n",
        "camara = cv.VideoCapture(0)\n",
        "\n",
        "# ----------------------------------------------------------------------------- #\n",
        "# -------------------- Ejecución y prueba del algoritmo ----------------------- #\n",
        "\n",
        "while True:\n",
        "    _, captura = camara.read()\n",
        "    grises = cv.cvtColor(captura, cv.COLOR_BGR2GRAY)\n",
        "\n",
        "    cara = ruidos.detectMultiScale(grises, 1.15, 1)\n",
        "\n",
        "    for(x, y, esq1, esq2) in cara:\n",
        "        cv.rectangle(captura, (x,y), (x+esq1, y+esq2), (0, 255, 0))\n",
        "        \n",
        "    cv.imshow(\"Detección\", captura)\n",
        "    \n",
        "    if cv.waitKey(1) == ord('s'):\n",
        "        break\n",
        "        \n",
        "camara.release()\n",
        "cv.destroyAllWindows()\n",
        "\n",
        "# ----------------------------- Fin del código -------------------------------- #\n",
        "# ----------------------------------------------------------------------------- #"
      ],
      "execution_count": null,
      "outputs": []
    }
  ]
}